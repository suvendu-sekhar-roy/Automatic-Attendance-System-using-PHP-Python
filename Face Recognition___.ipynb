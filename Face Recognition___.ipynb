{
 "cells": [
  {
   "cell_type": "code",
   "execution_count": 1,
   "metadata": {},
   "outputs": [],
   "source": [
    "import cv2\n",
    "import numpy as np\n",
    "import face_recognition as fr\n",
    "import os\n",
    "from datetime import *\n",
    "import mysql.connector\n",
    "from mysql.connector import Error"
   ]
  },
  {
   "cell_type": "code",
   "execution_count": 2,
   "metadata": {},
   "outputs": [
    {
     "output_type": "stream",
     "name": "stdout",
     "text": [
      "['35000117025.jpg', '35000117067.jpg']\n",
      "['35000117025', '35000117067']\n"
     ]
    }
   ],
   "source": [
    "#Create a list, which can get the images from our folder aumatically\n",
    "\n",
    "path= \"C:/xampp/htdocs/Online Attendance System -PHP/uploads\"  #set my path\n",
    "images=[]\n",
    "face_names=[]\n",
    "myList=os.listdir(path) #Crab the list of images in this folder\n",
    "\n",
    "print(myList)\n",
    "\n",
    "for i in myList:\n",
    "    curImg=cv2.imread(f\"{path}\\\\{i}\") #Collecting all the images from given path one by one\n",
    "    images.append(curImg)\n",
    "    face_names.append(os.path.splitext(i)[0])    #Seperating the extensions of the image files and only get the names \n",
    "\n",
    "print(face_names)\n"
   ]
  },
  {
   "cell_type": "code",
   "execution_count": null,
   "metadata": {},
   "outputs": [],
   "source": []
  },
  {
   "cell_type": "code",
   "execution_count": 3,
   "metadata": {},
   "outputs": [
    {
     "output_type": "stream",
     "name": "stdout",
     "text": [
      "Successfully encoded 2 images\n"
     ]
    }
   ],
   "source": [
    "#We have to encode all the known person images\n",
    "# Define a function which will compute all the encodings\n",
    "\n",
    "def findEncodings(images): \n",
    "    encodeList=[]  #List which will contain all the images\n",
    "    \n",
    "    #Create database of all known face encodings\n",
    "    for img in images:\n",
    "        img=cv2.cvtColor(img,cv2.COLOR_BGR2RGB) #Image converted to RGB from BGR\n",
    "        encode=fr.face_encodings(img)[0] #Encode the image\n",
    "        encodeList.append(encode)  \n",
    "    return encodeList\n",
    "\n",
    "\n",
    "known_face_encoding = findEncodings(images)\n",
    "print(f\"Successfully encoded {len(known_face_encoding)} images\")"
   ]
  },
  {
   "cell_type": "code",
   "execution_count": 4,
   "metadata": {},
   "outputs": [],
   "source": [
    "def markAttendance(name):\n",
    "    now=datetime.now()\n",
    "    a=now.strftime(\"%Y-%m-%d %H:%M:%S\")\n",
    "    x=a.split()\n",
    "    date=x[0]\n",
    "    time=x[1]\n",
    "    print(type(date))\n",
    "    print(type(time))\n",
    "    try:\n",
    "        connection = mysql.connector.connect(host='localhost',\n",
    "                                             database='attendance',\n",
    "                                             user='root',\n",
    "                                             password='')\n",
    "        print(\"Connection successful\")\n",
    "        \n",
    "        cursor = connection.cursor()\n",
    "        cursor.execute(\"INSERT INTO record (Roll, Date, Time) VALUES (%s, %s, %s)\",(name, date, time))\n",
    "        connection.commit()\n",
    "        print(cursor.rowcount, \"Record inserted successfully into table\")\n",
    "        cursor.close()\n",
    "    except Error as e:\n",
    "        print(\"Error occured\",e)\n",
    "    finally:\n",
    "        if (connection.is_connected()):\n",
    "            connection.close()\n",
    "            print(\"MySQL connection is closed\")\n"
   ]
  },
  {
   "cell_type": "code",
   "execution_count": 5,
   "metadata": {},
   "outputs": [
    {
     "output_type": "stream",
     "name": "stdout",
     "text": [
      "[True, False]\n",
      "<class 'str'>\n",
      "<class 'str'>\n",
      "Connection successful\n",
      "1 Record inserted successfully into table\n",
      "MySQL connection is closed\n",
      "[True, False]\n",
      "<class 'str'>\n",
      "<class 'str'>\n",
      "Connection successful\n",
      "Error occured 1062 (23000): Duplicate entry '35000117025-15-06-2021' for key 'PRIMARY'\n",
      "MySQL connection is closed\n",
      "[True, False]\n",
      "<class 'str'>\n",
      "<class 'str'>\n",
      "Connection successful\n",
      "Error occured 1062 (23000): Duplicate entry '35000117025-15-06-2021' for key 'PRIMARY'\n",
      "MySQL connection is closed\n",
      "[True, False]\n",
      "<class 'str'>\n",
      "<class 'str'>\n",
      "Connection successful\n",
      "Error occured 1062 (23000): Duplicate entry '35000117025-15-06-2021' for key 'PRIMARY'\n",
      "MySQL connection is closed\n",
      "[True, False]\n",
      "<class 'str'>\n",
      "<class 'str'>\n",
      "Connection successful\n",
      "Error occured 1062 (23000): Duplicate entry '35000117025-15-06-2021' for key 'PRIMARY'\n",
      "MySQL connection is closed\n",
      "[True, False]\n",
      "<class 'str'>\n",
      "<class 'str'>\n",
      "Connection successful\n",
      "Error occured 1062 (23000): Duplicate entry '35000117025-15-06-2021' for key 'PRIMARY'\n",
      "MySQL connection is closed\n"
     ]
    }
   ],
   "source": [
    "#Image collected from webcam \n",
    "\n",
    "cap=cv2.VideoCapture(0) #Initialize a webcam\n",
    "\n",
    "while True:\n",
    "    success, img=cap.read() #Read the image frame by frame from the video\n",
    "    \n",
    "    if success is True:     \n",
    "        imgTest=cv2.cvtColor(img,cv2.COLOR_BGR2RGB)\n",
    "    else:\n",
    "        continue\n",
    "        \n",
    "    face_location=fr.face_locations(imgTest)\n",
    "    face_encode=fr.face_encodings(imgTest,face_location)\n",
    "\n",
    "\n",
    "    for (top, right, bottom, left), face_encoding in zip(face_location,face_encode):\n",
    "        matches=fr.compare_faces(known_face_encoding, face_encoding,tolerance=0.6)\n",
    "        print(matches)\n",
    "        name=\"Unknown\"\n",
    "\n",
    "        if True in matches:\n",
    "            first_match_index =  matches.index(True)\n",
    "            name=face_names[first_match_index]\n",
    "            cv2.rectangle(img,(left,top),(right,bottom),(0,255,0),2)\n",
    "            cv2.putText(img,name,(left+6, bottom+10),cv2.FONT_HERSHEY_COMPLEX,0.5,(255,255,255),2)\n",
    "\n",
    "            name=int(name)\n",
    "            markAttendance(name)\n",
    "        else:\n",
    "            cv2.rectangle(img,(left,top),(right,bottom),(0,0,255),2)\n",
    "            cv2.putText(img,name,(left+6, bottom+10),cv2.FONT_HERSHEY_COMPLEX,0.5,(255,255,255),2)\n",
    "\n",
    "    cv2.imshow(\"Webcam\",img)\n",
    "    if cv2.waitKey(1) & 0xFF == ord('q'):\n",
    "        break\n",
    "cap.release()\n",
    "cv2.destroyAllWindows()"
   ]
  },
  {
   "cell_type": "code",
   "execution_count": null,
   "metadata": {},
   "outputs": [],
   "source": []
  }
 ],
 "metadata": {
  "kernelspec": {
   "name": "python3",
   "display_name": "Python 3.7.3 64-bit ('base': conda)"
  },
  "language_info": {
   "codemirror_mode": {
    "name": "ipython",
    "version": 3
   },
   "file_extension": ".py",
   "mimetype": "text/x-python",
   "name": "python",
   "nbconvert_exporter": "python",
   "pygments_lexer": "ipython3",
   "version": "3.7.3"
  },
  "metadata": {
   "interpreter": {
    "hash": "cd5887c732f7761d875a22cfaa95d99adfc0df97f1625cd678b1e7bc962e9510"
   }
  },
  "interpreter": {
   "hash": "e8ed161e919c9a8b75086a43b9ce414a808b740ecc653005cb89b11af00a200b"
  }
 },
 "nbformat": 4,
 "nbformat_minor": 4
}